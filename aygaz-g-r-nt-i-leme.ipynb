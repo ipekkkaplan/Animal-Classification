{
 "cells": [
  {
   "cell_type": "code",
   "execution_count": 1,
   "id": "485fb940",
   "metadata": {
    "execution": {
     "iopub.execute_input": "2024-12-22T02:33:25.251961Z",
     "iopub.status.busy": "2024-12-22T02:33:25.251617Z",
     "iopub.status.idle": "2024-12-22T02:33:29.804833Z",
     "shell.execute_reply": "2024-12-22T02:33:29.803902Z"
    },
    "papermill": {
     "duration": 4.560994,
     "end_time": "2024-12-22T02:33:29.806777",
     "exception": false,
     "start_time": "2024-12-22T02:33:25.245783",
     "status": "completed"
    },
    "tags": []
   },
   "outputs": [
    {
     "name": "stdout",
     "output_type": "stream",
     "text": [
      "Requirement already satisfied: tensorflow in /usr/local/lib/python3.10/dist-packages (2.17.0)\r\n",
      "Requirement already satisfied: opencv-python in /usr/local/lib/python3.10/dist-packages (4.10.0.84)\r\n",
      "Requirement already satisfied: scikit-learn in /usr/local/lib/python3.10/dist-packages (1.2.2)\r\n",
      "Requirement already satisfied: matplotlib in /usr/local/lib/python3.10/dist-packages (3.7.1)\r\n",
      "Requirement already satisfied: absl-py>=1.0.0 in /usr/local/lib/python3.10/dist-packages (from tensorflow) (1.4.0)\r\n",
      "Requirement already satisfied: astunparse>=1.6.0 in /usr/local/lib/python3.10/dist-packages (from tensorflow) (1.6.3)\r\n",
      "Requirement already satisfied: flatbuffers>=24.3.25 in /usr/local/lib/python3.10/dist-packages (from tensorflow) (24.3.25)\r\n",
      "Requirement already satisfied: gast!=0.5.0,!=0.5.1,!=0.5.2,>=0.2.1 in /usr/local/lib/python3.10/dist-packages (from tensorflow) (0.6.0)\r\n",
      "Requirement already satisfied: google-pasta>=0.1.1 in /usr/local/lib/python3.10/dist-packages (from tensorflow) (0.2.0)\r\n",
      "Requirement already satisfied: h5py>=3.10.0 in /usr/local/lib/python3.10/dist-packages (from tensorflow) (3.11.0)\r\n",
      "Requirement already satisfied: libclang>=13.0.0 in /usr/local/lib/python3.10/dist-packages (from tensorflow) (18.1.1)\r\n",
      "Requirement already satisfied: ml-dtypes<0.5.0,>=0.3.1 in /usr/local/lib/python3.10/dist-packages (from tensorflow) (0.4.1)\r\n",
      "Requirement already satisfied: opt-einsum>=2.3.2 in /usr/local/lib/python3.10/dist-packages (from tensorflow) (3.3.0)\r\n",
      "Requirement already satisfied: packaging in /usr/local/lib/python3.10/dist-packages (from tensorflow) (24.1)\r\n",
      "Requirement already satisfied: protobuf!=4.21.0,!=4.21.1,!=4.21.2,!=4.21.3,!=4.21.4,!=4.21.5,<5.0.0dev,>=3.20.3 in /usr/local/lib/python3.10/dist-packages (from tensorflow) (3.20.3)\r\n",
      "Requirement already satisfied: requests<3,>=2.21.0 in /usr/local/lib/python3.10/dist-packages (from tensorflow) (2.32.3)\r\n",
      "Requirement already satisfied: setuptools in /usr/local/lib/python3.10/dist-packages (from tensorflow) (71.0.4)\r\n",
      "Requirement already satisfied: six>=1.12.0 in /usr/local/lib/python3.10/dist-packages (from tensorflow) (1.16.0)\r\n",
      "Requirement already satisfied: termcolor>=1.1.0 in /usr/local/lib/python3.10/dist-packages (from tensorflow) (2.4.0)\r\n",
      "Requirement already satisfied: typing-extensions>=3.6.6 in /usr/local/lib/python3.10/dist-packages (from tensorflow) (4.12.2)\r\n",
      "Requirement already satisfied: wrapt>=1.11.0 in /usr/local/lib/python3.10/dist-packages (from tensorflow) (1.16.0)\r\n",
      "Requirement already satisfied: grpcio<2.0,>=1.24.3 in /usr/local/lib/python3.10/dist-packages (from tensorflow) (1.64.1)\r\n",
      "Requirement already satisfied: tensorboard<2.18,>=2.17 in /usr/local/lib/python3.10/dist-packages (from tensorflow) (2.17.0)\r\n",
      "Requirement already satisfied: keras>=3.2.0 in /usr/local/lib/python3.10/dist-packages (from tensorflow) (3.4.1)\r\n",
      "Requirement already satisfied: tensorflow-io-gcs-filesystem>=0.23.1 in /usr/local/lib/python3.10/dist-packages (from tensorflow) (0.37.1)\r\n",
      "Requirement already satisfied: numpy<2.0.0,>=1.23.5 in /usr/local/lib/python3.10/dist-packages (from tensorflow) (1.26.4)\r\n",
      "Requirement already satisfied: scipy>=1.3.2 in /usr/local/lib/python3.10/dist-packages (from scikit-learn) (1.13.1)\r\n",
      "Requirement already satisfied: joblib>=1.1.1 in /usr/local/lib/python3.10/dist-packages (from scikit-learn) (1.4.2)\r\n",
      "Requirement already satisfied: threadpoolctl>=2.0.0 in /usr/local/lib/python3.10/dist-packages (from scikit-learn) (3.5.0)\r\n",
      "Requirement already satisfied: contourpy>=1.0.1 in /usr/local/lib/python3.10/dist-packages (from matplotlib) (1.3.0)\r\n",
      "Requirement already satisfied: cycler>=0.10 in /usr/local/lib/python3.10/dist-packages (from matplotlib) (0.12.1)\r\n",
      "Requirement already satisfied: fonttools>=4.22.0 in /usr/local/lib/python3.10/dist-packages (from matplotlib) (4.53.1)\r\n",
      "Requirement already satisfied: kiwisolver>=1.0.1 in /usr/local/lib/python3.10/dist-packages (from matplotlib) (1.4.7)\r\n",
      "Requirement already satisfied: pillow>=6.2.0 in /usr/local/lib/python3.10/dist-packages (from matplotlib) (10.4.0)\r\n",
      "Requirement already satisfied: pyparsing>=2.3.1 in /usr/local/lib/python3.10/dist-packages (from matplotlib) (3.1.4)\r\n",
      "Requirement already satisfied: python-dateutil>=2.7 in /usr/local/lib/python3.10/dist-packages (from matplotlib) (2.8.2)\r\n",
      "Requirement already satisfied: wheel<1.0,>=0.23.0 in /usr/local/lib/python3.10/dist-packages (from astunparse>=1.6.0->tensorflow) (0.44.0)\r\n",
      "Requirement already satisfied: rich in /usr/local/lib/python3.10/dist-packages (from keras>=3.2.0->tensorflow) (13.8.1)\r\n",
      "Requirement already satisfied: namex in /usr/local/lib/python3.10/dist-packages (from keras>=3.2.0->tensorflow) (0.0.8)\r\n",
      "Requirement already satisfied: optree in /usr/local/lib/python3.10/dist-packages (from keras>=3.2.0->tensorflow) (0.12.1)\r\n",
      "Requirement already satisfied: charset-normalizer<4,>=2 in /usr/local/lib/python3.10/dist-packages (from requests<3,>=2.21.0->tensorflow) (3.3.2)\r\n",
      "Requirement already satisfied: idna<4,>=2.5 in /usr/local/lib/python3.10/dist-packages (from requests<3,>=2.21.0->tensorflow) (3.10)\r\n",
      "Requirement already satisfied: urllib3<3,>=1.21.1 in /usr/local/lib/python3.10/dist-packages (from requests<3,>=2.21.0->tensorflow) (2.2.3)\r\n",
      "Requirement already satisfied: certifi>=2017.4.17 in /usr/local/lib/python3.10/dist-packages (from requests<3,>=2.21.0->tensorflow) (2024.8.30)\r\n",
      "Requirement already satisfied: markdown>=2.6.8 in /usr/local/lib/python3.10/dist-packages (from tensorboard<2.18,>=2.17->tensorflow) (3.7)\r\n",
      "Requirement already satisfied: tensorboard-data-server<0.8.0,>=0.7.0 in /usr/local/lib/python3.10/dist-packages (from tensorboard<2.18,>=2.17->tensorflow) (0.7.2)\r\n",
      "Requirement already satisfied: werkzeug>=1.0.1 in /usr/local/lib/python3.10/dist-packages (from tensorboard<2.18,>=2.17->tensorflow) (3.0.4)\r\n",
      "Requirement already satisfied: MarkupSafe>=2.1.1 in /usr/local/lib/python3.10/dist-packages (from werkzeug>=1.0.1->tensorboard<2.18,>=2.17->tensorflow) (2.1.5)\r\n",
      "Requirement already satisfied: markdown-it-py>=2.2.0 in /usr/local/lib/python3.10/dist-packages (from rich->keras>=3.2.0->tensorflow) (3.0.0)\r\n",
      "Requirement already satisfied: pygments<3.0.0,>=2.13.0 in /usr/local/lib/python3.10/dist-packages (from rich->keras>=3.2.0->tensorflow) (2.18.0)\r\n",
      "Requirement already satisfied: mdurl~=0.1 in /usr/local/lib/python3.10/dist-packages (from markdown-it-py>=2.2.0->rich->keras>=3.2.0->tensorflow) (0.1.2)\r\n"
     ]
    }
   ],
   "source": [
    "pip install tensorflow opencv-python scikit-learn matplotlib\n"
   ]
  },
  {
   "cell_type": "markdown",
   "id": "31d08ada",
   "metadata": {
    "papermill": {
     "duration": 0.003977,
     "end_time": "2024-12-22T02:33:29.815329",
     "exception": false,
     "start_time": "2024-12-22T02:33:29.811352",
     "status": "completed"
    },
    "tags": []
   },
   "source": [
    "**1.GEREKLİ KÜTÜPHANELERİN YÜKLENMESİ**: \n",
    "\n",
    "* numpy: Matematiksel işlemler ve veri manipülasyonu.opencv-python: Görüntü işleme (okuma, boyutlandırma, normalize etme vb.).\n",
    "\n",
    "* tensorflow ve keras: CNN modelinin oluşturulması ve eğitilmesi.\n",
    "\n",
    "* sklearn: Verilerin eğitim ve test setlerine bölünmesi, etiketlerin işlenmesi.\n",
    "\n",
    "* matplotlib: Eğitim sonuçlarının görselleştirilmesi.\n",
    "                                                  \n",
    "* Aşağıdaki hücre, projede kullanılacak tüm temel kütüphaneleri içermektedir.Uyarıların kapatılması: Görünürlüğü artırmak ve çalıştırma sırasında gereksiz çıktıları engellemek için.                                          \n"
   ]
  },
  {
   "cell_type": "code",
   "execution_count": 2,
   "id": "9ff7d3a0",
   "metadata": {
    "execution": {
     "iopub.execute_input": "2024-12-22T02:33:29.824460Z",
     "iopub.status.busy": "2024-12-22T02:33:29.824178Z",
     "iopub.status.idle": "2024-12-22T02:33:39.289451Z",
     "shell.execute_reply": "2024-12-22T02:33:39.288695Z"
    },
    "papermill": {
     "duration": 9.471714,
     "end_time": "2024-12-22T02:33:39.291058",
     "exception": false,
     "start_time": "2024-12-22T02:33:29.819344",
     "status": "completed"
    },
    "tags": []
   },
   "outputs": [],
   "source": [
    "import os\n",
    "import numpy as np\n",
    "import cv2\n",
    "from sklearn.model_selection import train_test_split\n",
    "from sklearn.preprocessing import LabelEncoder\n",
    "from tensorflow.keras.utils import to_categorical\n",
    "from tensorflow.keras.models import Sequential\n",
    "from tensorflow.keras.layers import Conv2D, MaxPooling2D, Flatten, Dense, Dropout, Input\n",
    "from tensorflow.keras.optimizers import Adam\n",
    "import matplotlib.pyplot as plt\n",
    "import warnings\n",
    "\n",
    "warnings.filterwarnings(\"ignore\")\n"
   ]
  },
  {
   "cell_type": "markdown",
   "id": "54a79037",
   "metadata": {
    "papermill": {
     "duration": 0.003937,
     "end_time": "2024-12-22T02:33:39.299561",
     "exception": false,
     "start_time": "2024-12-22T02:33:39.295624",
     "status": "completed"
    },
    "tags": []
   },
   "source": [
    "**2. VERİ SETİNİN HAZIRLANMASI **\n",
    "1. Kaynak ve hedef klasör yolları ayarlanır:\n",
    "* source_dir: Orijinal veri setinin bulunduğu yer.\n",
    "* target_dir: Filtrelenmiş ve işlenmiş görsellerin saklanacağı yer.\n",
    "\n",
    "2. Her sınıftan 650 görsel seçilir:\n",
    "* Sınıf adlarına göre kaynak klasörler içinde gezinilir.\n",
    "* Yalnızca belirtilen sınıflardan ve belirli bir sayıda görsel alınır.\n",
    "3. .Görseller yeniden kaydedilir:\n",
    "* cv2.imwrite ile hedef klasöre taşınır.\n"
   ]
  },
  {
   "cell_type": "code",
   "execution_count": 3,
   "id": "0d634253",
   "metadata": {
    "execution": {
     "iopub.execute_input": "2024-12-22T02:33:39.309626Z",
     "iopub.status.busy": "2024-12-22T02:33:39.309132Z",
     "iopub.status.idle": "2024-12-22T02:35:46.069400Z",
     "shell.execute_reply": "2024-12-22T02:35:46.068481Z"
    },
    "papermill": {
     "duration": 126.769749,
     "end_time": "2024-12-22T02:35:46.074073",
     "exception": false,
     "start_time": "2024-12-22T02:33:39.304324",
     "status": "completed"
    },
    "tags": []
   },
   "outputs": [
    {
     "name": "stdout",
     "output_type": "stream",
     "text": [
      "Veri seti başarıyla hazırlandı ve dengelendi.\n"
     ]
    }
   ],
   "source": [
    "# Veri seti klasör yolları\n",
    "source_dir = \"/kaggle/input/animals-with-attributes-2/Animals_with_Attributes2/JPEGImages\"\n",
    "target_dir = \"FilteredImages\"  # target_dir'in doğru tanımlandığından emin olun\n",
    "\n",
    "# Seçilecek sınıflar ve her sınıf için görsel sayısı\n",
    "selected_classes = [\"collie\", \"dolphin\", \"elephant\", \"fox\", \"moose\", \"rabbit\", \"sheep\", \"squirrel\", \"giant+panda\", \"polar+bear\"]\n",
    "images_per_class = 650\n",
    "\n",
    "# Hedef klasörü oluştur ve görselleri filtrele\n",
    "os.makedirs(target_dir, exist_ok=True)\n",
    "\n",
    "for class_name in selected_classes:\n",
    "    class_path = os.path.join(source_dir, class_name)\n",
    "    target_path = os.path.join(target_dir, class_name)\n",
    "    os.makedirs(target_path, exist_ok=True)\n",
    "    \n",
    "    for i, file_name in enumerate(os.listdir(class_path)):\n",
    "        if i >= images_per_class:\n",
    "            break\n",
    "        full_file_name = os.path.join(class_path, file_name)\n",
    "        if os.path.isfile(full_file_name):\n",
    "            cv2.imwrite(os.path.join(target_path, file_name), cv2.imread(full_file_name))\n",
    "\n",
    "print(\"Veri seti başarıyla hazırlandı ve dengelendi.\")\n",
    "\n"
   ]
  },
  {
   "cell_type": "markdown",
   "id": "81993c0a",
   "metadata": {
    "papermill": {
     "duration": 0.003896,
     "end_time": "2024-12-22T02:35:46.082175",
     "exception": false,
     "start_time": "2024-12-22T02:35:46.078279",
     "status": "completed"
    },
    "tags": []
   },
   "source": [
    "**3. Görsellerin Boyutlandırılması ve Normalizasyon**\n",
    "\n",
    "Bu adımda görseller:\n",
    "\n",
    "* cv.2 resize kullanarak görseller 128x128 piksel boyutuna indirgenir.\n",
    "* Normalleştirilerek piksel değerleri 0-1 aralığına alınır.\n",
    "* img / 255.0: Piksel değerlerini normalize ederek modelin daha hızlı ve tutarlı öğrenmesini sağlar.\n",
    "\n"
   ]
  },
  {
   "cell_type": "code",
   "execution_count": 4,
   "id": "d073eb82",
   "metadata": {
    "execution": {
     "iopub.execute_input": "2024-12-22T02:35:46.091225Z",
     "iopub.status.busy": "2024-12-22T02:35:46.090877Z",
     "iopub.status.idle": "2024-12-22T02:36:25.595021Z",
     "shell.execute_reply": "2024-12-22T02:36:25.594136Z"
    },
    "papermill": {
     "duration": 39.514288,
     "end_time": "2024-12-22T02:36:25.600489",
     "exception": false,
     "start_time": "2024-12-22T02:35:46.086201",
     "status": "completed"
    },
    "tags": []
   },
   "outputs": [
    {
     "name": "stdout",
     "output_type": "stream",
     "text": [
      "Veri kümesi boyutu: (6500, 128, 128, 3)\n"
     ]
    }
   ],
   "source": [
    "# Görselleri ve etiketleri yükleyip işleyelim\n",
    "def load_and_process_images(data_dir, image_size=(128, 128)):\n",
    "    images = []\n",
    "    labels = []\n",
    "    for class_name in os.listdir(data_dir):\n",
    "        class_path = os.path.join(data_dir, class_name)\n",
    "        if os.path.isdir(class_path):\n",
    "            for file_name in os.listdir(class_path):\n",
    "                file_path = os.path.join(class_path, file_name)\n",
    "                img = cv2.imread(file_path)\n",
    "                if img is not None:\n",
    "                    img_resized = cv2.resize(img, image_size)\n",
    "                    img_normalized = img_resized / 255.0\n",
    "                    images.append(img_normalized)\n",
    "                    labels.append(class_name)\n",
    "    return np.array(images), np.array(labels)\n",
    "\n",
    "# Veriyi yükleyelim\n",
    "data_dir = target_dir  # target_dir doğru şekilde tanımlandı\n",
    "X, y = load_and_process_images(data_dir)\n",
    "print(f\"Veri kümesi boyutu: {X.shape}\")\n"
   ]
  },
  {
   "cell_type": "markdown",
   "id": "13093a75",
   "metadata": {
    "papermill": {
     "duration": 0.00376,
     "end_time": "2024-12-22T02:36:25.608343",
     "exception": false,
     "start_time": "2024-12-22T02:36:25.604583",
     "status": "completed"
    },
    "tags": []
   },
   "source": [
    "**4. Eğitim ve Test Seti Oluşturma**\n",
    "  \n",
    "*  Veriler rastgele %70 eğitim ve %30 test olacak şekilde bölünür. Etiketler one-hot kodlama ile hazırlanır.\n",
    "*  LabelEncoder: Etiketleri sınıf isimlerinden sayılara çevirir.\n",
    "*  to_categorical: Sayısal etiketleri one-hot formatına dönüştürür.\n",
    "*  train_test_split: Eğitim ve test verilerini rastgele ayırır.\n"
   ]
  },
  {
   "cell_type": "code",
   "execution_count": 5,
   "id": "82f69a87",
   "metadata": {
    "execution": {
     "iopub.execute_input": "2024-12-22T02:36:25.617088Z",
     "iopub.status.busy": "2024-12-22T02:36:25.616829Z",
     "iopub.status.idle": "2024-12-22T02:36:26.354430Z",
     "shell.execute_reply": "2024-12-22T02:36:26.353516Z"
    },
    "papermill": {
     "duration": 0.743373,
     "end_time": "2024-12-22T02:36:26.355687",
     "exception": false,
     "start_time": "2024-12-22T02:36:25.612314",
     "status": "completed"
    },
    "tags": []
   },
   "outputs": [
    {
     "name": "stdout",
     "output_type": "stream",
     "text": [
      "Eğitim veri boyutu: (4550, 128, 128, 3), Test veri boyutu: (1950, 128, 128, 3)\n"
     ]
    }
   ],
   "source": [
    "encoder = LabelEncoder()\n",
    "y_encoded = encoder.fit_transform(y)\n",
    "y_categorical = to_categorical(y_encoded)\n",
    "\n",
    "X_train, X_test, y_train, y_test = train_test_split(X, y_categorical, test_size=0.3, random_state=42)\n",
    "print(f\"Eğitim veri boyutu: {X_train.shape}, Test veri boyutu: {X_test.shape}\")\n"
   ]
  },
  {
   "cell_type": "markdown",
   "id": "7ec49d6e",
   "metadata": {
    "papermill": {
     "duration": 0.004065,
     "end_time": "2024-12-22T02:36:26.364246",
     "exception": false,
     "start_time": "2024-12-22T02:36:26.360181",
     "status": "completed"
    },
    "tags": []
   },
   "source": [
    "**5. CNN Modelinin Oluşturulması**\n",
    "\n",
    "   CNN modeli oluşturulur. Kullanılan katmanlar:\n",
    "\n",
    "* Conv2D: Görsel özellikleri çıkarır.\n",
    "* MaxPooling2D: Özelliklerin boyutunu küçültür.\n",
    "* Dense: Tam bağlı katman (sınıflandırma için).\n",
    "* Optimizasyon: AdamKayıp fonksiyonu:\n",
    "* categorical_crossentropy (çok sınıflı problem için uygundur).\n"
   ]
  },
  {
   "cell_type": "code",
   "execution_count": 6,
   "id": "71920dd8",
   "metadata": {
    "execution": {
     "iopub.execute_input": "2024-12-22T02:36:26.373243Z",
     "iopub.status.busy": "2024-12-22T02:36:26.373009Z",
     "iopub.status.idle": "2024-12-22T02:36:56.382820Z",
     "shell.execute_reply": "2024-12-22T02:36:56.382116Z"
    },
    "papermill": {
     "duration": 30.016238,
     "end_time": "2024-12-22T02:36:56.384549",
     "exception": false,
     "start_time": "2024-12-22T02:36:26.368311",
     "status": "completed"
    },
    "tags": []
   },
   "outputs": [
    {
     "name": "stdout",
     "output_type": "stream",
     "text": [
      "Epoch 1/15\n",
      "\u001b[1m143/143\u001b[0m \u001b[32m━━━━━━━━━━━━━━━━━━━━\u001b[0m\u001b[37m\u001b[0m \u001b[1m8s\u001b[0m 33ms/step - accuracy: 0.2353 - loss: 4.8620 - val_accuracy: 0.4421 - val_loss: 1.6109\n",
      "Epoch 2/15\n",
      "\u001b[1m143/143\u001b[0m \u001b[32m━━━━━━━━━━━━━━━━━━━━\u001b[0m\u001b[37m\u001b[0m \u001b[1m1s\u001b[0m 9ms/step - accuracy: 0.5733 - loss: 1.3235 - val_accuracy: 0.5123 - val_loss: 1.4693\n",
      "Epoch 3/15\n",
      "\u001b[1m143/143\u001b[0m \u001b[32m━━━━━━━━━━━━━━━━━━━━\u001b[0m\u001b[37m\u001b[0m \u001b[1m1s\u001b[0m 9ms/step - accuracy: 0.7568 - loss: 0.8244 - val_accuracy: 0.5436 - val_loss: 1.3895\n",
      "Epoch 4/15\n",
      "\u001b[1m143/143\u001b[0m \u001b[32m━━━━━━━━━━━━━━━━━━━━\u001b[0m\u001b[37m\u001b[0m \u001b[1m1s\u001b[0m 9ms/step - accuracy: 0.8979 - loss: 0.4341 - val_accuracy: 0.4903 - val_loss: 1.6327\n",
      "Epoch 5/15\n",
      "\u001b[1m143/143\u001b[0m \u001b[32m━━━━━━━━━━━━━━━━━━━━\u001b[0m\u001b[37m\u001b[0m \u001b[1m1s\u001b[0m 9ms/step - accuracy: 0.9570 - loss: 0.2230 - val_accuracy: 0.5097 - val_loss: 1.6391\n",
      "Epoch 6/15\n",
      "\u001b[1m143/143\u001b[0m \u001b[32m━━━━━━━━━━━━━━━━━━━━\u001b[0m\u001b[37m\u001b[0m \u001b[1m1s\u001b[0m 9ms/step - accuracy: 0.9909 - loss: 0.0929 - val_accuracy: 0.5169 - val_loss: 1.6975\n",
      "Epoch 7/15\n",
      "\u001b[1m143/143\u001b[0m \u001b[32m━━━━━━━━━━━━━━━━━━━━\u001b[0m\u001b[37m\u001b[0m \u001b[1m1s\u001b[0m 9ms/step - accuracy: 0.9985 - loss: 0.0382 - val_accuracy: 0.5195 - val_loss: 1.7691\n",
      "Epoch 8/15\n",
      "\u001b[1m143/143\u001b[0m \u001b[32m━━━━━━━━━━━━━━━━━━━━\u001b[0m\u001b[37m\u001b[0m \u001b[1m1s\u001b[0m 9ms/step - accuracy: 0.9996 - loss: 0.0190 - val_accuracy: 0.5246 - val_loss: 1.9124\n",
      "Epoch 9/15\n",
      "\u001b[1m143/143\u001b[0m \u001b[32m━━━━━━━━━━━━━━━━━━━━\u001b[0m\u001b[37m\u001b[0m \u001b[1m1s\u001b[0m 9ms/step - accuracy: 0.9995 - loss: 0.0125 - val_accuracy: 0.5323 - val_loss: 2.0155\n",
      "Epoch 10/15\n",
      "\u001b[1m143/143\u001b[0m \u001b[32m━━━━━━━━━━━━━━━━━━━━\u001b[0m\u001b[37m\u001b[0m \u001b[1m1s\u001b[0m 9ms/step - accuracy: 1.0000 - loss: 0.0072 - val_accuracy: 0.5287 - val_loss: 1.9960\n",
      "Epoch 11/15\n",
      "\u001b[1m143/143\u001b[0m \u001b[32m━━━━━━━━━━━━━━━━━━━━\u001b[0m\u001b[37m\u001b[0m \u001b[1m1s\u001b[0m 9ms/step - accuracy: 1.0000 - loss: 0.0049 - val_accuracy: 0.5231 - val_loss: 2.0774\n",
      "Epoch 12/15\n",
      "\u001b[1m143/143\u001b[0m \u001b[32m━━━━━━━━━━━━━━━━━━━━\u001b[0m\u001b[37m\u001b[0m \u001b[1m1s\u001b[0m 9ms/step - accuracy: 1.0000 - loss: 0.0037 - val_accuracy: 0.5267 - val_loss: 2.0985\n",
      "Epoch 13/15\n",
      "\u001b[1m143/143\u001b[0m \u001b[32m━━━━━━━━━━━━━━━━━━━━\u001b[0m\u001b[37m\u001b[0m \u001b[1m1s\u001b[0m 9ms/step - accuracy: 1.0000 - loss: 0.0031 - val_accuracy: 0.5246 - val_loss: 2.1550\n",
      "Epoch 14/15\n",
      "\u001b[1m143/143\u001b[0m \u001b[32m━━━━━━━━━━━━━━━━━━━━\u001b[0m\u001b[37m\u001b[0m \u001b[1m1s\u001b[0m 9ms/step - accuracy: 1.0000 - loss: 0.0024 - val_accuracy: 0.5133 - val_loss: 2.1811\n",
      "Epoch 15/15\n",
      "\u001b[1m143/143\u001b[0m \u001b[32m━━━━━━━━━━━━━━━━━━━━\u001b[0m\u001b[37m\u001b[0m \u001b[1m1s\u001b[0m 9ms/step - accuracy: 1.0000 - loss: 0.0020 - val_accuracy: 0.5236 - val_loss: 2.1937\n"
     ]
    }
   ],
   "source": [
    "model = Sequential([\n",
    "    Input(shape=(128, 128, 3)),\n",
    "    Conv2D(32, (3, 3), activation='relu'),\n",
    "    MaxPooling2D(pool_size=(2, 2)),\n",
    "    Flatten(),\n",
    "    Dense(128, activation='relu'),\n",
    "    Dense(10, activation='softmax')  # 10 sınıf için\n",
    "])\n",
    "\n",
    "model.compile(optimizer='adam', loss='categorical_crossentropy', metrics=['accuracy'])\n",
    "\n",
    "history = model.fit(X_train, y_train, epochs=15, validation_data=(X_test, y_test), batch_size=32)\n"
   ]
  },
  {
   "cell_type": "markdown",
   "id": "de99db47",
   "metadata": {
    "papermill": {
     "duration": 0.019111,
     "end_time": "2024-12-22T02:36:56.425028",
     "exception": false,
     "start_time": "2024-12-22T02:36:56.405917",
     "status": "completed"
    },
    "tags": []
   },
   "source": [
    "**6. Modelin Eğitilmesi**\n",
    "\n",
    "   Model 15 epoch boyunca eğitilir ve doğrulama sonuçları raporlanır."
   ]
  },
  {
   "cell_type": "code",
   "execution_count": 7,
   "id": "31aa6ff0",
   "metadata": {
    "execution": {
     "iopub.execute_input": "2024-12-22T02:36:56.463944Z",
     "iopub.status.busy": "2024-12-22T02:36:56.463607Z",
     "iopub.status.idle": "2024-12-22T02:37:20.766099Z",
     "shell.execute_reply": "2024-12-22T02:37:20.765262Z"
    },
    "papermill": {
     "duration": 24.32358,
     "end_time": "2024-12-22T02:37:20.767651",
     "exception": false,
     "start_time": "2024-12-22T02:36:56.444071",
     "status": "completed"
    },
    "tags": []
   },
   "outputs": [
    {
     "name": "stdout",
     "output_type": "stream",
     "text": [
      "Epoch 1/15\n",
      "\u001b[1m143/143\u001b[0m \u001b[32m━━━━━━━━━━━━━━━━━━━━\u001b[0m\u001b[37m\u001b[0m \u001b[1m2s\u001b[0m 17ms/step - accuracy: 1.0000 - loss: 0.0017 - val_accuracy: 0.5210 - val_loss: 2.2390\n",
      "Epoch 2/15\n",
      "\u001b[1m143/143\u001b[0m \u001b[32m━━━━━━━━━━━━━━━━━━━━\u001b[0m\u001b[37m\u001b[0m \u001b[1m1s\u001b[0m 9ms/step - accuracy: 1.0000 - loss: 0.0014 - val_accuracy: 0.5169 - val_loss: 2.2682\n",
      "Epoch 3/15\n",
      "\u001b[1m143/143\u001b[0m \u001b[32m━━━━━━━━━━━━━━━━━━━━\u001b[0m\u001b[37m\u001b[0m \u001b[1m1s\u001b[0m 9ms/step - accuracy: 1.0000 - loss: 0.0012 - val_accuracy: 0.5221 - val_loss: 2.2771\n",
      "Epoch 4/15\n",
      "\u001b[1m143/143\u001b[0m \u001b[32m━━━━━━━━━━━━━━━━━━━━\u001b[0m\u001b[37m\u001b[0m \u001b[1m1s\u001b[0m 9ms/step - accuracy: 1.0000 - loss: 0.0010 - val_accuracy: 0.5231 - val_loss: 2.3010\n",
      "Epoch 5/15\n",
      "\u001b[1m143/143\u001b[0m \u001b[32m━━━━━━━━━━━━━━━━━━━━\u001b[0m\u001b[37m\u001b[0m \u001b[1m1s\u001b[0m 9ms/step - accuracy: 1.0000 - loss: 9.5580e-04 - val_accuracy: 0.5277 - val_loss: 2.3369\n",
      "Epoch 6/15\n",
      "\u001b[1m143/143\u001b[0m \u001b[32m━━━━━━━━━━━━━━━━━━━━\u001b[0m\u001b[37m\u001b[0m \u001b[1m1s\u001b[0m 9ms/step - accuracy: 1.0000 - loss: 7.8481e-04 - val_accuracy: 0.5210 - val_loss: 2.3613\n",
      "Epoch 7/15\n",
      "\u001b[1m143/143\u001b[0m \u001b[32m━━━━━━━━━━━━━━━━━━━━\u001b[0m\u001b[37m\u001b[0m \u001b[1m1s\u001b[0m 9ms/step - accuracy: 1.0000 - loss: 7.1266e-04 - val_accuracy: 0.5210 - val_loss: 2.3878\n",
      "Epoch 8/15\n",
      "\u001b[1m143/143\u001b[0m \u001b[32m━━━━━━━━━━━━━━━━━━━━\u001b[0m\u001b[37m\u001b[0m \u001b[1m1s\u001b[0m 9ms/step - accuracy: 1.0000 - loss: 6.0711e-04 - val_accuracy: 0.5200 - val_loss: 2.4080\n",
      "Epoch 9/15\n",
      "\u001b[1m143/143\u001b[0m \u001b[32m━━━━━━━━━━━━━━━━━━━━\u001b[0m\u001b[37m\u001b[0m \u001b[1m1s\u001b[0m 9ms/step - accuracy: 1.0000 - loss: 5.3573e-04 - val_accuracy: 0.5231 - val_loss: 2.4352\n",
      "Epoch 10/15\n",
      "\u001b[1m143/143\u001b[0m \u001b[32m━━━━━━━━━━━━━━━━━━━━\u001b[0m\u001b[37m\u001b[0m \u001b[1m1s\u001b[0m 9ms/step - accuracy: 1.0000 - loss: 4.8237e-04 - val_accuracy: 0.5179 - val_loss: 2.4423\n",
      "Epoch 11/15\n",
      "\u001b[1m143/143\u001b[0m \u001b[32m━━━━━━━━━━━━━━━━━━━━\u001b[0m\u001b[37m\u001b[0m \u001b[1m1s\u001b[0m 9ms/step - accuracy: 1.0000 - loss: 4.4338e-04 - val_accuracy: 0.5174 - val_loss: 2.4682\n",
      "Epoch 12/15\n",
      "\u001b[1m143/143\u001b[0m \u001b[32m━━━━━━━━━━━━━━━━━━━━\u001b[0m\u001b[37m\u001b[0m \u001b[1m1s\u001b[0m 9ms/step - accuracy: 1.0000 - loss: 3.9477e-04 - val_accuracy: 0.5185 - val_loss: 2.4961\n",
      "Epoch 13/15\n",
      "\u001b[1m143/143\u001b[0m \u001b[32m━━━━━━━━━━━━━━━━━━━━\u001b[0m\u001b[37m\u001b[0m \u001b[1m1s\u001b[0m 10ms/step - accuracy: 1.0000 - loss: 3.4414e-04 - val_accuracy: 0.5169 - val_loss: 2.5158\n",
      "Epoch 14/15\n",
      "\u001b[1m143/143\u001b[0m \u001b[32m━━━━━━━━━━━━━━━━━━━━\u001b[0m\u001b[37m\u001b[0m \u001b[1m1s\u001b[0m 10ms/step - accuracy: 1.0000 - loss: 3.1672e-04 - val_accuracy: 0.5159 - val_loss: 2.5570\n",
      "Epoch 15/15\n",
      "\u001b[1m143/143\u001b[0m \u001b[32m━━━━━━━━━━━━━━━━━━━━\u001b[0m\u001b[37m\u001b[0m \u001b[1m1s\u001b[0m 10ms/step - accuracy: 1.0000 - loss: 2.9542e-04 - val_accuracy: 0.5169 - val_loss: 2.5525\n"
     ]
    }
   ],
   "source": [
    "history = model.fit(X_train, y_train, epochs=15, validation_data=(X_test, y_test), batch_size=32)\n"
   ]
  },
  {
   "cell_type": "markdown",
   "id": "de46a7bc",
   "metadata": {
    "papermill": {
     "duration": 0.034153,
     "end_time": "2024-12-22T02:37:20.838205",
     "exception": false,
     "start_time": "2024-12-22T02:37:20.804052",
     "status": "completed"
    },
    "tags": []
   },
   "source": [
    "\n",
    "* Eğitim doğruluğu ve doğrulama doğruluğu epoch bazında analiz edilir.\n",
    "* Grafikler, modelin performans trendini gösterir.\n"
   ]
  },
  {
   "cell_type": "code",
   "execution_count": 8,
   "id": "395ad909",
   "metadata": {
    "execution": {
     "iopub.execute_input": "2024-12-22T02:37:20.911980Z",
     "iopub.status.busy": "2024-12-22T02:37:20.911592Z",
     "iopub.status.idle": "2024-12-22T02:37:21.191266Z",
     "shell.execute_reply": "2024-12-22T02:37:21.190326Z"
    },
    "papermill": {
     "duration": 0.319171,
     "end_time": "2024-12-22T02:37:21.192629",
     "exception": false,
     "start_time": "2024-12-22T02:37:20.873458",
     "status": "completed"
    },
    "tags": []
   },
   "outputs": [
    {
     "data": {
      "image/png": "[encoded data removed]",
      "text/plain": [
       "<Figure size 640x480 with 1 Axes>"
      ]
     },
     "metadata": {},
     "output_type": "display_data"
    }
   ],
   "source": [
    "plt.plot(history.history['accuracy'], label='Eğitim Doğruluğu')\n",
    "plt.plot(history.history['val_accuracy'], label='Doğrulama Doğruluğu')\n",
    "plt.legend()\n",
    "plt.title('Model Performansı')\n",
    "plt.xlabel('Epoch')\n",
    "plt.ylabel('Doğruluk')\n",
    "plt.show()\n"
   ]
  },
  {
   "cell_type": "markdown",
   "id": "3be58552",
   "metadata": {
    "papermill": {
     "duration": 0.034139,
     "end_time": "2024-12-22T02:37:21.261916",
     "exception": false,
     "start_time": "2024-12-22T02:37:21.227777",
     "status": "completed"
    },
    "tags": []
   },
   "source": [
    "**7.Manipülasyon Farklı Işık Koşullarında Görseller**\n",
    "cv2.convertScaleAbs:\n",
    "alpha: Kontrastı artırır (varsayılan = 1.0).\n",
    "beta: Parlaklık değeri ekler.\n",
    "Bu işlemler, modelin farklı ışık koşullarındaki doğruluğunu test etmek için kullanılır."
   ]
  },
  {
   "cell_type": "code",
   "execution_count": 9,
   "id": "84d4e018",
   "metadata": {
    "execution": {
     "iopub.execute_input": "2024-12-22T02:37:21.332463Z",
     "iopub.status.busy": "2024-12-22T02:37:21.332151Z",
     "iopub.status.idle": "2024-12-22T02:37:21.447449Z",
     "shell.execute_reply": "2024-12-22T02:37:21.446332Z"
    },
    "papermill": {
     "duration": 0.152576,
     "end_time": "2024-12-22T02:37:21.448881",
     "exception": false,
     "start_time": "2024-12-22T02:37:21.296305",
     "status": "completed"
    },
    "tags": []
   },
   "outputs": [
    {
     "name": "stdout",
     "output_type": "stream",
     "text": [
      "Manipüle edilmiş test seti oluşturuldu.\n"
     ]
    }
   ],
   "source": [
    "# Görüntü manipülasyonu (örneğin parlaklık artırma)\n",
    "def manipulate_images(images):\n",
    "    manipulated_images = []\n",
    "    for img in images:\n",
    "        # Görsellerin parlaklık ve kontrastını değiştirme\n",
    "        manipulated = cv2.convertScaleAbs(img, alpha=1.5, beta=30)  # alpha: kontrast, beta: parlaklık\n",
    "        manipulated_images.append(manipulated)\n",
    "    return np.array(manipulated_images)\n",
    "\n",
    "# Test setine manipülasyon uygula\n",
    "X_test_manipulated = manipulate_images(X_test)\n",
    "\n",
    "print(\"Manipüle edilmiş test seti oluşturuldu.\")\n",
    "\n"
   ]
  },
  {
   "cell_type": "markdown",
   "id": "65fde78a",
   "metadata": {
    "papermill": {
     "duration": 0.034607,
     "end_time": "2024-12-22T02:37:21.518909",
     "exception": false,
     "start_time": "2024-12-22T02:37:21.484302",
     "status": "completed"
    },
    "tags": []
   },
   "source": [
    "**8.Manipüle Edilmiş Test Seti İle Modelin Test Edilmesi**\n",
    "\n",
    "* Bu kod, manipüle edilmiş test setindeki model doğruluğunu hesaplar.Model, farklı ışık manipülasyonlarına ne kadar dayanıklı olduğunu gösterir.\n"
   ]
  },
  {
   "cell_type": "code",
   "execution_count": 10,
   "id": "4be8ad8c",
   "metadata": {
    "execution": {
     "iopub.execute_input": "2024-12-22T02:37:21.589559Z",
     "iopub.status.busy": "2024-12-22T02:37:21.589255Z",
     "iopub.status.idle": "2024-12-22T02:37:22.748844Z",
     "shell.execute_reply": "2024-12-22T02:37:22.747876Z"
    },
    "papermill": {
     "duration": 1.196785,
     "end_time": "2024-12-22T02:37:22.750495",
     "exception": false,
     "start_time": "2024-12-22T02:37:21.553710",
     "status": "completed"
    },
    "tags": []
   },
   "outputs": [
    {
     "name": "stdout",
     "output_type": "stream",
     "text": [
      "\u001b[1m61/61\u001b[0m \u001b[32m━━━━━━━━━━━━━━━━━━━━\u001b[0m\u001b[37m\u001b[0m \u001b[1m1s\u001b[0m 7ms/step - accuracy: 0.1059 - loss: 526.8643\n",
      "Manipüle Edilmiş Test Doğruluğu: 10.36%\n"
     ]
    }
   ],
   "source": [
    "# Manipüle edilmiş test setinde model performansını değerlendirme\n",
    "manipulated_loss, manipulated_accuracy = model.evaluate(X_test_manipulated, y_test)\n",
    "print(f\"Manipüle Edilmiş Test Doğruluğu: {manipulated_accuracy * 100:.2f}%\")\n"
   ]
  },
  {
   "cell_type": "markdown",
   "id": "fe14ae5b",
   "metadata": {
    "papermill": {
     "duration": 0.036128,
     "end_time": "2024-12-22T02:37:22.823938",
     "exception": false,
     "start_time": "2024-12-22T02:37:22.787810",
     "status": "completed"
    },
    "tags": []
   },
   "source": [
    "**9.Renk Sabitliği Algoritması Uygulanması**\n",
    "\n",
    "\n",
    "* Gray World Algoritması: Görseldeki her renk kanalını normalize ederek, renk tonunu düzeltir.\n",
    "* Renk sabitliği algoritması, farklı ışık manipülasyonlarından kaynaklanan renk kaymalarını azaltmayı hedefler.\n"
   ]
  },
  {
   "cell_type": "code",
   "execution_count": 11,
   "id": "60b6f4fc",
   "metadata": {
    "execution": {
     "iopub.execute_input": "2024-12-22T02:37:22.904700Z",
     "iopub.status.busy": "2024-12-22T02:37:22.904297Z",
     "iopub.status.idle": "2024-12-22T02:37:23.278503Z",
     "shell.execute_reply": "2024-12-22T02:37:23.277487Z"
    },
    "papermill": {
     "duration": 0.413747,
     "end_time": "2024-12-22T02:37:23.280299",
     "exception": false,
     "start_time": "2024-12-22T02:37:22.866552",
     "status": "completed"
    },
    "tags": []
   },
   "outputs": [
    {
     "name": "stdout",
     "output_type": "stream",
     "text": [
      "Renk sabitliği uygulanmış test seti oluşturuldu.\n"
     ]
    }
   ],
   "source": [
    "# Gray World algoritması uygulama\n",
    "def gray_world(images):\n",
    "    wb_images = []\n",
    "    for img in images:\n",
    "        # Her renk kanalının ortalama değerini hesapla\n",
    "        avg_b = np.mean(img[:, :, 0])\n",
    "        avg_g = np.mean(img[:, :, 1])\n",
    "        avg_r = np.mean(img[:, :, 2])\n",
    "        avg_gray = (avg_b + avg_g + avg_r) / 3\n",
    "\n",
    "        # Kanalları normalize et\n",
    "        img[:, :, 0] = img[:, :, 0] * (avg_gray / avg_b)\n",
    "        img[:, :, 1] = img[:, :, 1] * (avg_gray / avg_g)\n",
    "        img[:, :, 2] = img[:, :, 2] * (avg_gray / avg_r)\n",
    "        wb_images.append(img)\n",
    "    return np.array(wb_images)\n",
    "\n",
    "# Manipüle edilmiş test setine renk sabitliği uygula\n",
    "X_test_corrected = gray_world(X_test_manipulated)\n",
    "\n",
    "print(\"Renk sabitliği uygulanmış test seti oluşturuldu.\")\n"
   ]
  },
  {
   "cell_type": "markdown",
   "id": "f2436ef8",
   "metadata": {
    "papermill": {
     "duration": 0.035027,
     "end_time": "2024-12-22T02:37:23.401182",
     "exception": false,
     "start_time": "2024-12-22T02:37:23.366155",
     "status": "completed"
    },
    "tags": []
   },
   "source": [
    "**10. Renk Sabiti Uygulanmış Test Seti İle Modelin Test Edilmesi**\n",
    "    \n",
    "* Bu kod, renk sabitliği algoritması uygulanmış görseller üzerindeki model doğruluğunu hesaplar."
   ]
  },
  {
   "cell_type": "code",
   "execution_count": 12,
   "id": "19ce8837",
   "metadata": {
    "execution": {
     "iopub.execute_input": "2024-12-22T02:37:23.472807Z",
     "iopub.status.busy": "2024-12-22T02:37:23.472407Z",
     "iopub.status.idle": "2024-12-22T02:37:23.948513Z",
     "shell.execute_reply": "2024-12-22T02:37:23.947699Z"
    },
    "papermill": {
     "duration": 0.51346,
     "end_time": "2024-12-22T02:37:23.949750",
     "exception": false,
     "start_time": "2024-12-22T02:37:23.436290",
     "status": "completed"
    },
    "tags": []
   },
   "outputs": [
    {
     "name": "stdout",
     "output_type": "stream",
     "text": [
      "\u001b[1m61/61\u001b[0m \u001b[32m━━━━━━━━━━━━━━━━━━━━\u001b[0m\u001b[37m\u001b[0m \u001b[1m0s\u001b[0m 3ms/step - accuracy: 0.1059 - loss: 507.2327\n",
      "Renk Sabitliği Uygulanmış Test Doğruluğu: 10.36%\n"
     ]
    }
   ],
   "source": [
    "# Renk sabitliği uygulanmış test setinde modeli değerlendir\n",
    "corrected_loss, corrected_accuracy = model.evaluate(X_test_corrected, y_test)\n",
    "print(f\"Renk Sabitliği Uygulanmış Test Doğruluğu: {corrected_accuracy * 100:.2f}%\")\n"
   ]
  },
  {
   "cell_type": "markdown",
   "id": "a7d42e26",
   "metadata": {
    "papermill": {
     "duration": 0.034968,
     "end_time": "2024-12-22T02:37:24.020982",
     "exception": false,
     "start_time": "2024-12-22T02:37:23.986014",
     "status": "completed"
    },
    "tags": []
   },
   "source": [
    "**11.Orijinal,Manipüle Ve Renk Sabitliği Sonuçlarının Karşılaştırılması**"
   ]
  },
  {
   "cell_type": "code",
   "execution_count": 13,
   "id": "aa8cf3a7",
   "metadata": {
    "execution": {
     "iopub.execute_input": "2024-12-22T02:37:24.093158Z",
     "iopub.status.busy": "2024-12-22T02:37:24.092816Z",
     "iopub.status.idle": "2024-12-22T02:37:26.580414Z",
     "shell.execute_reply": "2024-12-22T02:37:26.579587Z"
    },
    "papermill": {
     "duration": 2.525145,
     "end_time": "2024-12-22T02:37:26.581860",
     "exception": false,
     "start_time": "2024-12-22T02:37:24.056715",
     "status": "completed"
    },
    "tags": []
   },
   "outputs": [
    {
     "name": "stdout",
     "output_type": "stream",
     "text": [
      "Orijinal Test Doğruluğu: 51.69%\n",
      "Manipüle Edilmiş Test Doğruluğu: 10.36%\n",
      "Renk Sabitliği Uygulanmış Test Doğruluğu: 10.36%\n"
     ]
    }
   ],
   "source": [
    "# Orijinal test setinde doğruluk hesaplama\n",
    "original_loss, original_accuracy = model.evaluate(X_test, y_test, verbose=0)\n",
    "\n",
    "# Manipüle edilmiş test setinde doğruluk hesaplama\n",
    "manipulated_loss, manipulated_accuracy = model.evaluate(X_test_manipulated, y_test, verbose=0)\n",
    "\n",
    "# Renk sabitliği uygulanmış test setinde doğruluk hesaplama\n",
    "corrected_loss, corrected_accuracy = model.evaluate(X_test_corrected, y_test, verbose=0)\n",
    "\n",
    "# Sonuçların karşılaştırılması\n",
    "print(f\"Orijinal Test Doğruluğu: {original_accuracy * 100:.2f}%\")\n",
    "print(f\"Manipüle Edilmiş Test Doğruluğu: {manipulated_accuracy * 100:.2f}%\")\n",
    "print(f\"Renk Sabitliği Uygulanmış Test Doğruluğu: {corrected_accuracy * 100:.2f}%\")\n"
   ]
  },
  {
   "cell_type": "markdown",
   "id": "4399676b",
   "metadata": {
    "papermill": {
     "duration": 0.036359,
     "end_time": "2024-12-22T02:37:26.653848",
     "exception": false,
     "start_time": "2024-12-22T02:37:26.617489",
     "status": "completed"
    },
    "tags": []
   },
   "source": [
    "**12. Sonuçların Görselleştirilmesi**"
   ]
  },
  {
   "cell_type": "code",
   "execution_count": 14,
   "id": "59a281f0",
   "metadata": {
    "execution": {
     "iopub.execute_input": "2024-12-22T02:37:26.724425Z",
     "iopub.status.busy": "2024-12-22T02:37:26.724127Z",
     "iopub.status.idle": "2024-12-22T02:37:26.921521Z",
     "shell.execute_reply": "2024-12-22T02:37:26.920641Z"
    },
    "papermill": {
     "duration": 0.23425,
     "end_time": "2024-12-22T02:37:26.922799",
     "exception": false,
     "start_time": "2024-12-22T02:37:26.688549",
     "status": "completed"
    },
    "tags": []
   },
   "outputs": [
    {
     "data": {
      "image/png": "[encoded data removed]",
      "text/plain": [
       "<Figure size 640x480 with 1 Axes>"
      ]
     },
     "metadata": {},
     "output_type": "display_data"
    }
   ],
   "source": [
    "# Sonuçları görselleştir\n",
    "import matplotlib.pyplot as plt\n",
    "\n",
    "categories = ['Orijinal', 'Manipüle', 'Renk Sabitliği']\n",
    "accuracies = [original_accuracy * 100, manipulated_accuracy * 100, corrected_accuracy * 100]\n",
    "\n",
    "plt.bar(categories, accuracies, color=['blue', 'orange', 'green'])\n",
    "plt.title(\"Model Test Performanslarının Karşılaştırılması\")\n",
    "plt.xlabel(\"Test Seti Türü\")\n",
    "plt.ylabel(\"Doğruluk (%)\")\n",
    "plt.ylim(0, 100)\n",
    "plt.show()\n"
   ]
  }
 ],
 "metadata": {
  "kaggle": {
   "accelerator": "gpu",
   "dataSources": [
    {
     "datasetId": 1408532,
     "sourceId": 2333429,
     "sourceType": "datasetVersion"
    }
   ],
   "dockerImageVersionId": 30823,
   "isGpuEnabled": true,
   "isInternetEnabled": true,
   "language": "python",
   "sourceType": "notebook"
  },
  "kernelspec": {
   "display_name": "Python 3",
   "language": "python",
   "name": "python3"
  },
  "language_info": {
   "codemirror_mode": {
    "name": "ipython",
    "version": 3
   },
   "file_extension": ".py",
   "mimetype": "text/x-python",
   "name": "python",
   "nbconvert_exporter": "python",
   "pygments_lexer": "ipython3",
   "version": "3.10.12"
  },
  "papermill": {
   "default_parameters": {},
   "duration": 245.752342,
   "end_time": "2024-12-22T02:37:28.782060",
   "environment_variables": {},
   "exception": null,
   "input_path": "__notebook__.ipynb",
   "output_path": "__notebook__.ipynb",
   "parameters": {},
   "start_time": "2024-12-22T02:33:23.029718",
   "version": "2.6.0"
  }
 },
 "nbformat": 4,
 "nbformat_minor": 5
}
